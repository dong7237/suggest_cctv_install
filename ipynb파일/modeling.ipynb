{
 "cells": [
  {
   "cell_type": "markdown",
   "id": "d2513edd",
   "metadata": {},
   "source": [
    "# 모델링\n",
    "### **다시 모델링을 수행할 경우, 무작위 데이터 증강이 다시 수행되므로 모델 pickle 파일을 불러온 후, 테스트 단계만을 수행해야 함.**"
   ]
  },
  {
   "cell_type": "code",
   "execution_count": 3,
   "id": "efc4b075",
   "metadata": {},
   "outputs": [],
   "source": [
    "import pandas as pd\n",
    "import numpy as np\n",
    "import matplotlib.pyplot as plt\n",
    "import seaborn as sns\n",
    "from sklearn.preprocessing import StandardScaler,MinMaxScaler\n",
    "from sklearn.model_selection import train_test_split\n",
    "from sklearn.metrics import r2_score,mean_absolute_error,mean_squared_error"
   ]
  },
  {
   "cell_type": "code",
   "execution_count": 4,
   "id": "2359cd33",
   "metadata": {},
   "outputs": [],
   "source": [
    "grid_infra = pd.read_csv('격자화_인프라.csv')\n",
    "grid_infra = grid_infra[['index_right']]\n",
    "grid_infra = grid_infra.set_index('index_right')\n",
    "# 격자 정보는 원핫 인코딩을 통해 실수값으로 모델에 전달되지 않도록 함. => 범주화\n",
    "# 격자 정보가 실수로서의 정보를 담지 않고, 격자 각각의 의미만이 있기 때문."
   ]
  },
  {
   "cell_type": "code",
   "execution_count": 5,
   "id": "d29ee9e3",
   "metadata": {},
   "outputs": [],
   "source": [
    "first_df = pd.read_csv('22년1분기이전_격자별.csv')\n",
    "second_df = pd.read_csv('23년이전_격자별.csv')\n",
    "third_df = pd.read_csv('23년전체_격자별.csv')"
   ]
  },
  {
   "cell_type": "code",
   "execution_count": 6,
   "id": "bde7d856",
   "metadata": {},
   "outputs": [],
   "source": [
    "first_df.drop(1,axis=0,inplace=True)\n",
    "first_df.columns = first_df.iloc[0]\n",
    "first_df.drop(0,axis=0,inplace=True)\n",
    "first_df.set_index('정보',inplace=True)\n",
    "first_df = first_df.iloc[1:]\n",
    "first_df = first_df.astype('float')"
   ]
  },
  {
   "cell_type": "code",
   "execution_count": 7,
   "id": "1e504a78",
   "metadata": {},
   "outputs": [],
   "source": [
    "second_df.drop(1,axis=0,inplace=True)\n",
    "second_df.columns = second_df.iloc[0]\n",
    "second_df.drop(0,axis=0,inplace=True)\n",
    "second_df.set_index('정보',inplace=True)\n",
    "second_df = second_df.iloc[1:]\n",
    "second_df = second_df.astype('float')\n"
   ]
  },
  {
   "cell_type": "code",
   "execution_count": 8,
   "id": "1a49495c",
   "metadata": {},
   "outputs": [],
   "source": [
    "third_df.drop(1,axis=0,inplace=True)\n",
    "third_df.columns = third_df.iloc[0]\n",
    "third_df.drop(0,axis=0,inplace=True)\n",
    "third_df.set_index('정보',inplace=True)\n",
    "third_df = third_df.iloc[1:]\n",
    "third_df = third_df.astype('float')\n"
   ]
  },
  {
   "cell_type": "markdown",
   "id": "fd1f31a5",
   "metadata": {},
   "source": [
    "# 통합 데이터 프레임생성 및 feature engineering"
   ]
  },
  {
   "cell_type": "markdown",
   "id": "d61c412d",
   "metadata": {},
   "source": [
    "- 연속형 데이터 : 각 격자 별 인프라 열\n",
    "- 범주형 데이터 : 수집 일자 별 데이터 정보, 격자 정보"
   ]
  },
  {
   "cell_type": "markdown",
   "id": "4005cb7a",
   "metadata": {},
   "source": [
    "### feature engineering 내역\n",
    "- 동일한 격자 데이터를 수집 기간으로 구분할 수 있게 수집 순서에 따른 정보를 범주값으로 구분 후 데이터셋에 추가\n",
    "- 좌표정보를 모델에 포함시키기 위해 각 격자별로 범주화를 시킨 후 가변수화 수행\n",
    "\n",
    "### Randomforest 모델 선정 이유.\n",
    "- 데이터셋에 존재하는 이상치에 둔감한 모델 선정 필요.\n",
    "- 수 많은 feature가 존재함에도 다중공선성, 모델 복잡성 최소화를 할 수 있는 모델 선정 필요.\n",
    "- 데이터 증강에 따른 과적합을 하이퍼 파라미터 튜닝으로 최소화 할 수 있는 모델 선정 필요."
   ]
  },
  {
   "cell_type": "code",
   "execution_count": 9,
   "id": "8e748ae4",
   "metadata": {},
   "outputs": [],
   "source": [
    "first_df['수집순서'] = '1_수집순서'\n",
    "second_df['수집순서'] = '2_수집순서'\n",
    "third_df['수집순서'] = '3_수집순서'"
   ]
  },
  {
   "cell_type": "code",
   "execution_count": 10,
   "id": "9010bcf0",
   "metadata": {},
   "outputs": [],
   "source": [
    "first_df = first_df.reset_index()\n",
    "second_df = second_df.reset_index()\n",
    "third_df = third_df.reset_index()\n",
    "# 이미 정보가 object 형으로 전달되어 있기 때문에 별도의 속성 변경은 수행하지 않음."
   ]
  },
  {
   "cell_type": "code",
   "execution_count": 11,
   "id": "f005df9a",
   "metadata": {},
   "outputs": [],
   "source": [
    "first_df = pd.get_dummies(first_df,drop_first=False)\n",
    "second_df = pd.get_dummies(second_df,drop_first=False)\n",
    "third_df = pd.get_dummies(third_df,drop_first=False)\n",
    "# 수집 순서 및 격자의 범주화"
   ]
  },
  {
   "cell_type": "code",
   "execution_count": 12,
   "id": "54bbd8fa",
   "metadata": {},
   "outputs": [],
   "source": [
    "meta = pd.concat([first_df,second_df])\n",
    "#통합 데이터 프레임 선언"
   ]
  },
  {
   "cell_type": "code",
   "execution_count": 13,
   "id": "34a5b9fa",
   "metadata": {},
   "outputs": [],
   "source": [
    "meta = meta.fillna(0)\n",
    "third_df = third_df.fillna(0)\n",
    "\n",
    "# concat에 따른 결측치 값 0으로 처리"
   ]
  },
  {
   "cell_type": "code",
   "execution_count": 14,
   "id": "39504cdf",
   "metadata": {},
   "outputs": [],
   "source": [
    "meta = meta.drop('정보_114286.0',axis=1)\n",
    "meta['수집순서_3_수집순서'] = 0\n",
    "# 예측 데이터셋과의 통일성을 위해 특정 열 제거 및 추가"
   ]
  },
  {
   "cell_type": "code",
   "execution_count": 15,
   "id": "553126d3",
   "metadata": {},
   "outputs": [],
   "source": [
    "third_df[['수집순서_1_수집순서','수집순서_2_수집순서']] = 0\n",
    "# 학습 데이터셋과의 통일성을 위해 특정 열 추가"
   ]
  },
  {
   "cell_type": "markdown",
   "id": "39f99df4",
   "metadata": {},
   "source": [
    "---"
   ]
  },
  {
   "cell_type": "code",
   "execution_count": 16,
   "id": "142d0c84",
   "metadata": {},
   "outputs": [],
   "source": [
    "meta.to_csv('종합학습데이터프레임.csv',index=False)"
   ]
  },
  {
   "cell_type": "markdown",
   "id": "e73a8124",
   "metadata": {},
   "source": [
    "---"
   ]
  },
  {
   "cell_type": "markdown",
   "id": "c77fff1c",
   "metadata": {},
   "source": [
    "# 데이터 증강\n",
    "- 학습 데이터로 활용하기 위한 행의 개수가 부족함 => 주어진 데이터에 노이즈를 추가해, 데이터 증강 시행\n",
    "- 데이터 증강으로 인한 과적합 우려 => 복원 추출을 최소화하고 연속형 데이터에만 증강을 수행함. 증강한 데이터에는 노이즈를 추가함.\n",
    "- 범주형 데이터에는 데이터 증강을 수행하지 않음. => 연속 데이터가 아니기에 노이즈가 의미가 없음."
   ]
  },
  {
   "cell_type": "code",
   "execution_count": 17,
   "id": "fe364b50",
   "metadata": {},
   "outputs": [],
   "source": [
    "for_arg_col = meta.columns[:31]\n",
    "# 연속형 데이터 열"
   ]
  },
  {
   "cell_type": "code",
   "execution_count": 18,
   "id": "70ffa070",
   "metadata": {},
   "outputs": [],
   "source": [
    "for_arg_col = for_arg_col.drop('단속장소')"
   ]
  },
  {
   "cell_type": "code",
   "execution_count": 19,
   "id": "63837a6a",
   "metadata": {},
   "outputs": [],
   "source": [
    "# 데이터셋 로딩 및 초기 탐색\n",
    "\n",
    "data = meta.copy()\n",
    "\n",
    "# 결측치 확인 및 데이터셋 크기\n",
    "missing_values = data.isnull().sum()\n",
    "dataset_size = data.shape\n",
    "\n",
    "\n",
    "# 특성 표준화\n",
    "from sklearn.preprocessing import StandardScaler\n",
    "\n",
    "X = data.drop('단속장소', axis=1)  # 특성\n",
    "y = data['단속장소']              # 타겟\n",
    "\n",
    "scaler = StandardScaler()\n",
    "X_scaled = scaler.fit_transform(X[for_arg_col])\n",
    "# 연속형 데이터셋에 대해서만 표준화\n",
    "X[for_arg_col] = X_scaled\n",
    "# 범주형 데이터와 통합"
   ]
  },
  {
   "cell_type": "code",
   "execution_count": 20,
   "id": "f58bce59",
   "metadata": {},
   "outputs": [],
   "source": [
    "def add_gaussian_noise(X, noise_level=0.02):\n",
    "    noise = np.random.normal(0, noise_level, X.shape)\n",
    "    return X + noise\n",
    "\n",
    "X_augmented = add_gaussian_noise(X_scaled)\n",
    "# 연속형 데이터셋에만 데이터 변형\n",
    "X_full_augmented = X.copy()\n",
    "# 변형된 데이터셋의 범주형 데이터에는 변형이 되지 않음.\n",
    "X_full_augmented[for_arg_col] = X_augmented\n",
    "# 변형된 데이터셋의 연속형, 범주형 데이터 통합\n",
    "\n",
    "X_augmented_2 = add_gaussian_noise(X_scaled)\n",
    "# 연속형 데이터셋에만 데이터 변형\n",
    "X_full_augmented_2 = X.copy()\n",
    "# 변형된 데이터셋의 범주형 데이터에는 변형이 되지 않음.\n",
    "X_full_augmented_2[for_arg_col] = X_augmented_2\n",
    "# 변형된 데이터셋의 연속형, 범주형 데이터 통합"
   ]
  },
  {
   "cell_type": "code",
   "execution_count": 21,
   "id": "2a5f68cc",
   "metadata": {},
   "outputs": [],
   "source": [
    "X_full_augmented = pd.concat([X_full_augmented,X_full_augmented_2])"
   ]
  },
  {
   "cell_type": "code",
   "execution_count": 22,
   "id": "0a2e2110",
   "metadata": {},
   "outputs": [],
   "source": [
    "# 데이터 증강\n",
    "X_combined = pd.concat([X,X_full_augmented])\n",
    "y_combined = np.concatenate((y, y,y))\n",
    "# 표준편차를 이용한 노이즈값을 데이터셋에  추가\n",
    "# 균일한 값의 범위를 위해 표준화된 데이터셋에 노이즈를 추가.\n"
   ]
  },
  {
   "cell_type": "code",
   "execution_count": 23,
   "id": "12b7c113",
   "metadata": {},
   "outputs": [],
   "source": [
    "# 모델 훈련 및 평가 - 선형 회귀\n",
    "from sklearn.metrics import mean_squared_error, r2_score, mean_absolute_percentage_error\n",
    "\n",
    "X_train, X_test, y_train, y_test = train_test_split(X_combined, y_combined, test_size=0.3, random_state=42)"
   ]
  },
  {
   "cell_type": "markdown",
   "id": "7a9bafaf",
   "metadata": {},
   "source": [
    "# 교차검증"
   ]
  },
  {
   "cell_type": "code",
   "execution_count": 24,
   "id": "8e7c91d1",
   "metadata": {},
   "outputs": [],
   "source": [
    "from sklearn.ensemble import RandomForestRegressor"
   ]
  },
  {
   "cell_type": "code",
   "execution_count": 25,
   "id": "932beebe",
   "metadata": {},
   "outputs": [],
   "source": [
    "\n",
    "cv_arr_r2 = []\n",
    "cv_arr_rmse = []\n",
    "cv_arr_mse = []\n",
    "cv_arr_mape = []\n",
    "\n",
    "best_params = {\n",
    "    'n_estimators' : 150,\n",
    "    'max_features' : 'sqrt',\n",
    "    'max_depth' : 15,\n",
    "    'criterion' : 'squared_error',\n",
    "    'bootstrap' : True\n",
    "}\n",
    "for i in range(10):\n",
    "    rf_cv_model=RandomForestRegressor(\n",
    "    n_estimators=best_params['n_estimators'],\n",
    "    max_features=best_params['max_features'],\n",
    "    max_depth=best_params['max_depth'],\n",
    "    criterion=best_params['criterion'],\n",
    "    )\n",
    "    # 무작위성을 위해 랜덤 시드 삭제\n",
    "    rf_cv_model.fit(X_train, y_train)\n",
    "    y_cv_pred_rf = rf_cv_model.predict(X_test)\n",
    "    cv_arr_rmse.append(mean_absolute_error(y_test, y_cv_pred_rf)**0.5)\n",
    "    cv_arr_r2.append(r2_score(y_test, y_cv_pred_rf))\n",
    "    cv_arr_mse.append(mean_absolute_error(y_test, y_cv_pred_rf))\n",
    "    cv_arr_mape.append(mean_absolute_percentage_error(y_test, y_cv_pred_rf))\n",
    "    \n",
    "    #성능 안정성 교차검증"
   ]
  },
  {
   "cell_type": "code",
   "execution_count": 26,
   "id": "30fa1510",
   "metadata": {},
   "outputs": [
    {
     "data": {
      "text/plain": [
       "[0.8925888017790399,\n",
       " 0.8959166580051174,\n",
       " 0.8868035961272791,\n",
       " 0.8870742303195774,\n",
       " 0.8939890371231848,\n",
       " 0.8914373139504564,\n",
       " 0.8981556637949407,\n",
       " 0.8811086772923128,\n",
       " 0.8920367714164612,\n",
       " 0.887609182371542]"
      ]
     },
     "execution_count": 26,
     "metadata": {},
     "output_type": "execute_result"
    }
   ],
   "source": [
    "cv_arr_r2"
   ]
  },
  {
   "cell_type": "code",
   "execution_count": 27,
   "id": "deb5dc82",
   "metadata": {},
   "outputs": [
    {
     "data": {
      "text/plain": [
       "[413.15923809523804,\n",
       " 405.26219150858174,\n",
       " 423.1064308943089,\n",
       " 428.3360975609756,\n",
       " 429.0296260162602,\n",
       " 402.21407317073175,\n",
       " 405.00248238482396,\n",
       " 434.98372899729,\n",
       " 417.5832899728997,\n",
       " 436.0328048780487]"
      ]
     },
     "execution_count": 27,
     "metadata": {},
     "output_type": "execute_result"
    }
   ],
   "source": [
    "cv_arr_mse"
   ]
  },
  {
   "cell_type": "markdown",
   "id": "3473e89c",
   "metadata": {},
   "source": [
    "**최적의 하이퍼 파라미터 적용**"
   ]
  },
  {
   "cell_type": "code",
   "execution_count": 28,
   "id": "e6be1921",
   "metadata": {},
   "outputs": [],
   "source": [
    "\n",
    "rf_model = RandomForestRegressor( \n",
    "    n_estimators=best_params['n_estimators'],\n",
    "    max_features=best_params['max_features'],\n",
    "    max_depth=best_params['max_depth'],\n",
    "    criterion=best_params['criterion'],\n",
    "    random_state=42\n",
    "    )\n",
    "rf_model.random_state = 42\n",
    "# 최적의 성능을 내는 하이퍼 파라미터 적용 및 랜덤 시드 값 적용\n",
    "rf_model.fit(X_train, y_train)\n",
    "\n",
    "y_pred_rf = rf_model.predict(X_test)\n",
    "mse_rf = mean_squared_error(y_test, y_pred_rf)\n",
    "rmse_rf = np.sqrt(mse_rf)\n",
    "r2_rf = r2_score(y_test, y_pred_rf)\n"
   ]
  },
  {
   "cell_type": "code",
   "execution_count": null,
   "id": "a69b8a56",
   "metadata": {},
   "outputs": [],
   "source": []
  },
  {
   "cell_type": "code",
   "execution_count": 29,
   "id": "2a65f527",
   "metadata": {},
   "outputs": [],
   "source": [
    "# 테스트 데이터셋에 대한 예측\n",
    "test_data = third_df.copy()\n",
    "\n",
    "X_test_new_corrected = test_data.drop('단속장소', axis=1)\n",
    "X_test_new_standardized = scaler.transform(X_test_new_corrected[for_arg_col])\n",
    "X_test_new_corrected[for_arg_col] = X_test_new_standardized\n",
    "X_test_new_corrected.columns = X_train.columns\n",
    "X_test_new_corrected['수집순서_3_수집순서'] = 1\n",
    "X_test_new_corrected['수집순서_1_수집순서'] = 0\n",
    "\n",
    "y_pred_test_corrected = rf_model.predict(X_test_new_corrected)\n",
    "\n",
    "# 테스트 데이터셋 평가\n",
    "y_actual_test = test_data['단속장소']\n",
    "mse_test = mean_squared_error(y_actual_test, y_pred_test_corrected)\n",
    "rmse_test = np.sqrt(mse_test)\n",
    "r2_test = r2_score(y_actual_test, y_pred_test_corrected)"
   ]
  },
  {
   "cell_type": "code",
   "execution_count": 30,
   "id": "7da1dae5",
   "metadata": {},
   "outputs": [
    {
     "data": {
      "text/plain": [
       "0.8948859184019244"
      ]
     },
     "execution_count": 30,
     "metadata": {},
     "output_type": "execute_result"
    }
   ],
   "source": [
    "r2_rf\n",
    "# 학습 데이터에 대한 예측 성능 (r2값)"
   ]
  },
  {
   "cell_type": "code",
   "execution_count": 31,
   "id": "39120a72",
   "metadata": {},
   "outputs": [
    {
     "data": {
      "text/plain": [
       "606.4527733882367"
      ]
     },
     "execution_count": 31,
     "metadata": {},
     "output_type": "execute_result"
    }
   ],
   "source": [
    "rmse_test"
   ]
  },
  {
   "cell_type": "code",
   "execution_count": 32,
   "id": "22d69040",
   "metadata": {
    "scrolled": true
   },
   "outputs": [
    {
     "data": {
      "text/plain": [
       "0.8298342981099636"
      ]
     },
     "execution_count": 32,
     "metadata": {},
     "output_type": "execute_result"
    }
   ],
   "source": [
    "r2_test\n",
    "# 테스트 데이터에 대한 예측 성능 (r2값)"
   ]
  },
  {
   "cell_type": "markdown",
   "id": "8df6af97",
   "metadata": {},
   "source": [
    "- 테스트 데이터와 학습 데이터 간 예측 성능에 큰 차이가 없으므로 과적합 우려가 낮다고 할 수 있음.\n",
    "- 학습 데이터에 대한 예측 성능에 큰 차이를 보이지 않으므로 과적합 우려가 낮다고 할 수 있음."
   ]
  },
  {
   "cell_type": "code",
   "execution_count": 33,
   "id": "b6ed0c42",
   "metadata": {},
   "outputs": [],
   "source": [
    "# ## 모델 저장하기\n",
    "# ## 사용하기 위해 주석 처리 해제 필요\n",
    "# import pickle\n",
    "\n",
    "# with open('model.pkl', 'wb') as file:\n",
    "#         pickle.dump(rf_model, file)"
   ]
  },
  {
   "cell_type": "markdown",
   "id": "14e65e4b",
   "metadata": {},
   "source": [
    "----"
   ]
  },
  {
   "cell_type": "markdown",
   "id": "18d261d5",
   "metadata": {},
   "source": [
    "# 모델 불러오기\n",
    "- 데이터 증강은 무작위로 이뤄지기 때문에 이후 다시 학습을 진행할 경우, 계산할 오차를 정확하게 측정하지 못하게 됨.\n"
   ]
  },
  {
   "cell_type": "code",
   "execution_count": 34,
   "id": "6c5bb01b",
   "metadata": {},
   "outputs": [],
   "source": [
    "import pickle\n",
    "with open('model.pkl', 'rb') as file:\n",
    "    rf_model = pickle.load(file)\n",
    "# 모델 불러오기"
   ]
  },
  {
   "cell_type": "code",
   "execution_count": 35,
   "id": "babcea04",
   "metadata": {},
   "outputs": [
    {
     "data": {
      "text/html": [
       "<style>#sk-container-id-1 {color: black;background-color: white;}#sk-container-id-1 pre{padding: 0;}#sk-container-id-1 div.sk-toggleable {background-color: white;}#sk-container-id-1 label.sk-toggleable__label {cursor: pointer;display: block;width: 100%;margin-bottom: 0;padding: 0.3em;box-sizing: border-box;text-align: center;}#sk-container-id-1 label.sk-toggleable__label-arrow:before {content: \"▸\";float: left;margin-right: 0.25em;color: #696969;}#sk-container-id-1 label.sk-toggleable__label-arrow:hover:before {color: black;}#sk-container-id-1 div.sk-estimator:hover label.sk-toggleable__label-arrow:before {color: black;}#sk-container-id-1 div.sk-toggleable__content {max-height: 0;max-width: 0;overflow: hidden;text-align: left;background-color: #f0f8ff;}#sk-container-id-1 div.sk-toggleable__content pre {margin: 0.2em;color: black;border-radius: 0.25em;background-color: #f0f8ff;}#sk-container-id-1 input.sk-toggleable__control:checked~div.sk-toggleable__content {max-height: 200px;max-width: 100%;overflow: auto;}#sk-container-id-1 input.sk-toggleable__control:checked~label.sk-toggleable__label-arrow:before {content: \"▾\";}#sk-container-id-1 div.sk-estimator input.sk-toggleable__control:checked~label.sk-toggleable__label {background-color: #d4ebff;}#sk-container-id-1 div.sk-label input.sk-toggleable__control:checked~label.sk-toggleable__label {background-color: #d4ebff;}#sk-container-id-1 input.sk-hidden--visually {border: 0;clip: rect(1px 1px 1px 1px);clip: rect(1px, 1px, 1px, 1px);height: 1px;margin: -1px;overflow: hidden;padding: 0;position: absolute;width: 1px;}#sk-container-id-1 div.sk-estimator {font-family: monospace;background-color: #f0f8ff;border: 1px dotted black;border-radius: 0.25em;box-sizing: border-box;margin-bottom: 0.5em;}#sk-container-id-1 div.sk-estimator:hover {background-color: #d4ebff;}#sk-container-id-1 div.sk-parallel-item::after {content: \"\";width: 100%;border-bottom: 1px solid gray;flex-grow: 1;}#sk-container-id-1 div.sk-label:hover label.sk-toggleable__label {background-color: #d4ebff;}#sk-container-id-1 div.sk-serial::before {content: \"\";position: absolute;border-left: 1px solid gray;box-sizing: border-box;top: 0;bottom: 0;left: 50%;z-index: 0;}#sk-container-id-1 div.sk-serial {display: flex;flex-direction: column;align-items: center;background-color: white;padding-right: 0.2em;padding-left: 0.2em;position: relative;}#sk-container-id-1 div.sk-item {position: relative;z-index: 1;}#sk-container-id-1 div.sk-parallel {display: flex;align-items: stretch;justify-content: center;background-color: white;position: relative;}#sk-container-id-1 div.sk-item::before, #sk-container-id-1 div.sk-parallel-item::before {content: \"\";position: absolute;border-left: 1px solid gray;box-sizing: border-box;top: 0;bottom: 0;left: 50%;z-index: -1;}#sk-container-id-1 div.sk-parallel-item {display: flex;flex-direction: column;z-index: 1;position: relative;background-color: white;}#sk-container-id-1 div.sk-parallel-item:first-child::after {align-self: flex-end;width: 50%;}#sk-container-id-1 div.sk-parallel-item:last-child::after {align-self: flex-start;width: 50%;}#sk-container-id-1 div.sk-parallel-item:only-child::after {width: 0;}#sk-container-id-1 div.sk-dashed-wrapped {border: 1px dashed gray;margin: 0 0.4em 0.5em 0.4em;box-sizing: border-box;padding-bottom: 0.4em;background-color: white;}#sk-container-id-1 div.sk-label label {font-family: monospace;font-weight: bold;display: inline-block;line-height: 1.2em;}#sk-container-id-1 div.sk-label-container {text-align: center;}#sk-container-id-1 div.sk-container {/* jupyter's `normalize.less` sets `[hidden] { display: none; }` but bootstrap.min.css set `[hidden] { display: none !important; }` so we also need the `!important` here to be able to override the default hidden behavior on the sphinx rendered scikit-learn.org. See: https://github.com/scikit-learn/scikit-learn/issues/21755 */display: inline-block !important;position: relative;}#sk-container-id-1 div.sk-text-repr-fallback {display: none;}</style><div id=\"sk-container-id-1\" class=\"sk-top-container\"><div class=\"sk-text-repr-fallback\"><pre>RandomForestRegressor(max_depth=15, max_features=&#x27;sqrt&#x27;, n_estimators=150,\n",
       "                      random_state=42)</pre><b>In a Jupyter environment, please rerun this cell to show the HTML representation or trust the notebook. <br />On GitHub, the HTML representation is unable to render, please try loading this page with nbviewer.org.</b></div><div class=\"sk-container\" hidden><div class=\"sk-item\"><div class=\"sk-estimator sk-toggleable\"><input class=\"sk-toggleable__control sk-hidden--visually\" id=\"sk-estimator-id-1\" type=\"checkbox\" checked><label for=\"sk-estimator-id-1\" class=\"sk-toggleable__label sk-toggleable__label-arrow\">RandomForestRegressor</label><div class=\"sk-toggleable__content\"><pre>RandomForestRegressor(max_depth=15, max_features=&#x27;sqrt&#x27;, n_estimators=150,\n",
       "                      random_state=42)</pre></div></div></div></div></div>"
      ],
      "text/plain": [
       "RandomForestRegressor(max_depth=15, max_features='sqrt', n_estimators=150,\n",
       "                      random_state=42)"
      ]
     },
     "execution_count": 35,
     "metadata": {},
     "output_type": "execute_result"
    }
   ],
   "source": [
    "rf_model"
   ]
  },
  {
   "cell_type": "markdown",
   "id": "8e831fd3",
   "metadata": {},
   "source": [
    "# 테스트\n",
    "## 1. 변수 설명\n",
    "- X_test_new_corrected : 원본 테스트 데이터셋 (target 제거한 상태)\n",
    "- X_test_cctv_modified : CCTV 개수 데이터 변화 대상 데이터셋\n",
    "- X_test_cctv_modified_standardized : CCTV 개수 변화 데이터셋 (표준화한 상태)\n",
    "- y_pred_cctv_modified : 모델의 예측 Y값 (X_test_cctv_modified_standardized을 대상으로 예측)\n",
    "- y_pred_cctv_not_modified : 모델의 예측 Y값 (X_test_new_standardized  대상으로 예측)\n",
    "- X_test_new_standardized : 원본 테스트 데이터셋 (표준화한 상태)\n",
    "- y_pred_current : 실제 데이터 셋의 Y값\n",
    "- predicted_change : 실제 데이터 기반 예측값 과 변화 데이터 기반 예측값의 차이"
   ]
  },
  {
   "cell_type": "markdown",
   "id": "476a4df6",
   "metadata": {},
   "source": [
    "- 실제 단속 건수와 변화된 데이터셋의 예측값과 비교함으로써 변화하는 단속건수 확인"
   ]
  },
  {
   "cell_type": "code",
   "execution_count": 36,
   "id": "a2a562ef",
   "metadata": {},
   "outputs": [],
   "source": [
    "# 'cctv위치' 값이 증가할 때 각 격자 위치에서의 불법 주정차 적발량 변화 예측\n",
    "\n",
    "# 현재 CCTV 위치 정보 복사\n",
    "X_test_cctv_modified = test_data.copy()\n",
    "X_test_cctv_modified = X_test_cctv_modified.drop('단속장소',axis=1)\n",
    "X_test_cctv_modified.columns = X_train.columns\n",
    "X_test_cctv_modified['수집순서_3_수집순서'] = 1\n",
    "X_test_cctv_modified['수집순서_1_수집순서'] = 0\n",
    "\n",
    "plus_cctv_value = 1 # 증가시킬 cctv 값\n",
    "\n",
    "# CCTV 위치를 1 증가시킴 (가정: 현재 값 + 1)\n",
    "X_test_cctv_modified['cctv위치'] = X_test_cctv_modified['cctv위치'] + plus_cctv_value\n",
    "\n",
    "# 변경된 데이터 표준화\n",
    "X_test_cctv_modified_standardized = scaler.transform(X_test_cctv_modified[for_arg_col])\n",
    "X_test_cctv_modified[for_arg_col] = X_test_cctv_modified_standardized\n",
    "\n",
    "\n"
   ]
  },
  {
   "cell_type": "code",
   "execution_count": 37,
   "id": "423ad267",
   "metadata": {},
   "outputs": [],
   "source": [
    "# 변경된 데이터에 대한 예측 수행\n",
    "y_pred_cctv_modified = rf_model.predict(X_test_cctv_modified)\n",
    "y_pred_cctv_not_modified = rf_model.predict(X_test_new_corrected)\n",
    "# 예측된 적발량 변화 계산 (CCTV 추가 시 예측 적발량 - 현재 예측 적발량)\n",
    "predicted_change = y_pred_cctv_modified - y_actual_test\n"
   ]
  },
  {
   "cell_type": "code",
   "execution_count": 38,
   "id": "5496c3ec",
   "metadata": {},
   "outputs": [],
   "source": [
    "result = pd.DataFrame()\n",
    "result['실제_카메라수'] = test_data['cctv위치']\n",
    "# 실제 설치된 격자 별 CCTV 카메라 수를 의미.\n",
    "result['더해진_카메라수'] = test_data['cctv위치'] + plus_cctv_value\n",
    "# 변경된 CCTV 카메라 수를 의미.\n",
    "result['실제_단속건수'] = y_actual_test\n",
    "# 실제 데이터의 단속건수를 의미.\n",
    "result['예측_단속건수(변화)'] = y_pred_cctv_modified\n",
    "# 변경 데이터를 기반으로 예측한 단속건수를 의미.\n",
    "result['예측_단속건수(원본)'] = y_pred_cctv_not_modified\n",
    "# 원본 데이터를 기반으로 예측한 단속건수를 의미.\n",
    "\n",
    "result['오차율(%)'] = (((y_actual_test -  y_pred_cctv_not_modified)).abs() / y_actual_test).abs()*100\n",
    "# (원본 데이터셋  실제값  - 원본 데이터셋 예측값 ).절댓값/ 원본 데이터셋  실제값\n",
    "result['단속건수_변화량'] = predicted_change.tolist()\n",
    "# 변화된 데이터셋 예측값 - 원본 데이터셋  실제값\n",
    "result['단속건수_변화량(예측)'] = y_pred_cctv_modified - y_pred_cctv_not_modified\n",
    "# 변화된 데이터셋 예측값 - 원본 데이터셋 예측값"
   ]
  },
  {
   "cell_type": "markdown",
   "id": "caf630f2",
   "metadata": {},
   "source": [
    "- 오차율을 계산함으로써 예측 정확도가 높은 행의 변화량을 집중해서 관찰할 수 있게 함\n",
    "- 낮은 오차율의 기준을 정하기 위해 오차율의 분포를 구하고 그 분포의 중앙값보다 작은 오차율을 가진 행을 선별함.\n",
    "- 단속건수_변화량(예측) 열을 기준으로 내림차순 해, CCTV 추가 설치 격자를 선정함.\n",
    "- 추가 설치 대수는 5대 이므로 내림차순 기준 상위 5개 행의 격자를 선택"
   ]
  },
  {
   "cell_type": "code",
   "execution_count": 39,
   "id": "5e19c7c5",
   "metadata": {},
   "outputs": [],
   "source": [
    "er_md = result['오차율(%)'].median()"
   ]
  },
  {
   "cell_type": "code",
   "execution_count": 40,
   "id": "69fd1247",
   "metadata": {},
   "outputs": [
    {
     "data": {
      "text/plain": [
       "29.78470798284733"
      ]
     },
     "execution_count": 40,
     "metadata": {},
     "output_type": "execute_result"
    }
   ],
   "source": [
    "er_md"
   ]
  },
  {
   "cell_type": "code",
   "execution_count": 41,
   "id": "42ddc717",
   "metadata": {},
   "outputs": [],
   "source": [
    "result = result[result['오차율(%)']<er_md].sort_values('단속건수_변화량(예측)',ascending=False)\n",
    "# 오차율의 중앙값의 이하 행을 선택하고 단속건수 변화량(예측)을 기준으로 내림차순"
   ]
  },
  {
   "cell_type": "code",
   "execution_count": 42,
   "id": "181657ea",
   "metadata": {},
   "outputs": [
    {
     "data": {
      "text/html": [
       "<div>\n",
       "<style scoped>\n",
       "    .dataframe tbody tr th:only-of-type {\n",
       "        vertical-align: middle;\n",
       "    }\n",
       "\n",
       "    .dataframe tbody tr th {\n",
       "        vertical-align: top;\n",
       "    }\n",
       "\n",
       "    .dataframe thead th {\n",
       "        text-align: right;\n",
       "    }\n",
       "</style>\n",
       "<table border=\"1\" class=\"dataframe\">\n",
       "  <thead>\n",
       "    <tr style=\"text-align: right;\">\n",
       "      <th></th>\n",
       "      <th>실제_카메라수</th>\n",
       "      <th>더해진_카메라수</th>\n",
       "      <th>실제_단속건수</th>\n",
       "      <th>예측_단속건수(변화)</th>\n",
       "      <th>예측_단속건수(원본)</th>\n",
       "      <th>오차율(%)</th>\n",
       "      <th>단속건수_변화량</th>\n",
       "      <th>단속건수_변화량(예측)</th>\n",
       "    </tr>\n",
       "  </thead>\n",
       "  <tbody>\n",
       "    <tr>\n",
       "      <th>1</th>\n",
       "      <td>1.0</td>\n",
       "      <td>2.0</td>\n",
       "      <td>261.0</td>\n",
       "      <td>229.331333</td>\n",
       "      <td>187.111333</td>\n",
       "      <td>28.309834</td>\n",
       "      <td>-31.668667</td>\n",
       "      <td>42.220000</td>\n",
       "    </tr>\n",
       "    <tr>\n",
       "      <th>0</th>\n",
       "      <td>0.0</td>\n",
       "      <td>1.0</td>\n",
       "      <td>170.0</td>\n",
       "      <td>160.626667</td>\n",
       "      <td>141.340000</td>\n",
       "      <td>16.858824</td>\n",
       "      <td>-9.373333</td>\n",
       "      <td>19.286667</td>\n",
       "    </tr>\n",
       "    <tr>\n",
       "      <th>2</th>\n",
       "      <td>2.0</td>\n",
       "      <td>3.0</td>\n",
       "      <td>3836.0</td>\n",
       "      <td>4461.600000</td>\n",
       "      <td>4445.520000</td>\n",
       "      <td>15.889468</td>\n",
       "      <td>625.600000</td>\n",
       "      <td>16.080000</td>\n",
       "    </tr>\n",
       "    <tr>\n",
       "      <th>8</th>\n",
       "      <td>4.0</td>\n",
       "      <td>5.0</td>\n",
       "      <td>564.0</td>\n",
       "      <td>600.213333</td>\n",
       "      <td>584.820000</td>\n",
       "      <td>3.691489</td>\n",
       "      <td>36.213333</td>\n",
       "      <td>15.393333</td>\n",
       "    </tr>\n",
       "    <tr>\n",
       "      <th>4</th>\n",
       "      <td>3.0</td>\n",
       "      <td>4.0</td>\n",
       "      <td>1684.0</td>\n",
       "      <td>2184.706667</td>\n",
       "      <td>2175.560000</td>\n",
       "      <td>29.190024</td>\n",
       "      <td>500.706667</td>\n",
       "      <td>9.146667</td>\n",
       "    </tr>\n",
       "  </tbody>\n",
       "</table>\n",
       "</div>"
      ],
      "text/plain": [
       "   실제_카메라수  더해진_카메라수  실제_단속건수  예측_단속건수(변화)  예측_단속건수(원본)     오차율(%)  \\\n",
       "1      1.0       2.0    261.0   229.331333   187.111333  28.309834   \n",
       "0      0.0       1.0    170.0   160.626667   141.340000  16.858824   \n",
       "2      2.0       3.0   3836.0  4461.600000  4445.520000  15.889468   \n",
       "8      4.0       5.0    564.0   600.213333   584.820000   3.691489   \n",
       "4      3.0       4.0   1684.0  2184.706667  2175.560000  29.190024   \n",
       "\n",
       "     단속건수_변화량  단속건수_변화량(예측)  \n",
       "1  -31.668667     42.220000  \n",
       "0   -9.373333     19.286667  \n",
       "2  625.600000     16.080000  \n",
       "8   36.213333     15.393333  \n",
       "4  500.706667      9.146667  "
      ]
     },
     "execution_count": 42,
     "metadata": {},
     "output_type": "execute_result"
    }
   ],
   "source": [
    "top_5 =  result.head()\n",
    "#상위 5개 데이터프레임\n",
    "top_5"
   ]
  },
  {
   "cell_type": "code",
   "execution_count": 43,
   "id": "6fd7a6b3",
   "metadata": {},
   "outputs": [],
   "source": [
    "find_grid = pd.read_csv('23년전체_격자별.csv')\n",
    "\n",
    "find_grid.drop(1,axis=0,inplace=True)\n",
    "find_grid.columns = find_grid.iloc[0]\n",
    "find_grid.drop(0,axis=0,inplace=True)\n",
    "find_grid.set_index('정보',inplace=True)\n",
    "find_grid = find_grid.iloc[1:]\n",
    "find_grid = find_grid.astype('float')"
   ]
  },
  {
   "cell_type": "code",
   "execution_count": 44,
   "id": "523df43b",
   "metadata": {},
   "outputs": [],
   "source": [
    "find_grid = find_grid.iloc[list(top_5.index)]\n",
    "# 대상 5개 격자의 index를 활용해, 추출\n"
   ]
  },
  {
   "cell_type": "markdown",
   "id": "bb8a5560",
   "metadata": {},
   "source": [
    "---"
   ]
  },
  {
   "cell_type": "code",
   "execution_count": 45,
   "id": "b092ab9a",
   "metadata": {},
   "outputs": [],
   "source": [
    "find_grid_dict = {'grid_cand' : list(find_grid.index)}\n",
    "with open('grid_candidate.pkl','wb') as file:\n",
    "    pickle.dump(find_grid_dict,file)\n",
    "# 대상 후보 격자 파일 저장"
   ]
  }
 ],
 "metadata": {
  "kernelspec": {
   "display_name": "Python 3 (ipykernel)",
   "language": "python",
   "name": "python3"
  },
  "language_info": {
   "codemirror_mode": {
    "name": "ipython",
    "version": 3
   },
   "file_extension": ".py",
   "mimetype": "text/x-python",
   "name": "python",
   "nbconvert_exporter": "python",
   "pygments_lexer": "ipython3",
   "version": "3.11.3"
  }
 },
 "nbformat": 4,
 "nbformat_minor": 5
}
