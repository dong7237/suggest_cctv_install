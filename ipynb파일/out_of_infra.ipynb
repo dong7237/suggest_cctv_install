{
 "cells": [
  {
   "cell_type": "code",
   "execution_count": 4,
   "id": "a5d3d78d",
   "metadata": {},
   "outputs": [],
   "source": [
    "import pandas as pd\n",
    "import numpy as np"
   ]
  },
  {
   "cell_type": "code",
   "execution_count": 101,
   "id": "e23c0fd6",
   "metadata": {},
   "outputs": [],
   "source": [
    "df1 = pd.read_csv('인프라\\\\서울특별시 광진구_공영주차장 정보_20220118.csv')"
   ]
  },
  {
   "cell_type": "code",
   "execution_count": 9,
   "id": "685c3adf",
   "metadata": {},
   "outputs": [],
   "source": [
    "df2 = pd.read_csv('인프라\\\\서울특별시 광진구_가로등 위치정보_20220214.csv')"
   ]
  },
  {
   "cell_type": "code",
   "execution_count": 12,
   "id": "dca19f3c",
   "metadata": {},
   "outputs": [],
   "source": [
    "import folium\n",
    "df = pd.read_csv('인프라_3개제외.csv')\n",
    "df[['폐업일자','영업상태명']] = df[['폐업일자','영업상태명']].fillna(0)\n",
    "test = df.dropna()\n",
    "a = []\n",
    "for i in range( test.shape[0]):\n",
    "    arr =[test.iloc[i][1],test.iloc[i][2],test.iloc[i][-1]]\n",
    "    a.append(arr)"
   ]
  },
  {
   "cell_type": "code",
   "execution_count": 14,
   "id": "2ed6c509",
   "metadata": {},
   "outputs": [],
   "source": [
    "test.reset_index(inplace=True,drop=True)"
   ]
  },
  {
   "cell_type": "code",
   "execution_count": 15,
   "id": "ecabede1",
   "metadata": {},
   "outputs": [
    {
     "name": "stderr",
     "output_type": "stream",
     "text": [
      "C:\\Users\\HP\\anaconda3\\Lib\\site-packages\\IPython\\core\\interactiveshell.py:3445: FutureWarning: The `op` parameter is deprecated and will be removed in a future release. Please use the `predicate` parameter instead.\n",
      "  if await self.run_code(code, result, async_=asy):\n"
     ]
    }
   ],
   "source": [
    "import geopandas as gpd\n",
    "from shapely.geometry import Point, Polygon\n",
    "# Geopandas 지오데이터프레임 생성\n",
    "gdf = gpd.GeoDataFrame(test, geometry=gpd.points_from_xy(test['좌표정보(X)'], test['좌표정보(Y)']))\n",
    "\n",
    "# 격자 생성\n",
    "xmin, ymin, xmax, ymax = [gdf.total_bounds[i] for i in range(4)]\n",
    "width = height = 0.0089 # 대략 1km\n",
    "rows = int((ymax-ymin) / height)\n",
    "cols = int((xmax-xmin) / width)\n",
    "grid = []\n",
    "for i in range(cols):\n",
    "    for j in range(rows):\n",
    "        grid.append(Polygon([\n",
    "            (xmin + i * width, ymin + j * height),\n",
    "            (xmin + (i + 1) * width, ymin + j * height),\n",
    "            (xmin + (i + 1) * width, ymin + (j + 1) * height),\n",
    "            (xmin + i * width, ymin + (j + 1) * height)\n",
    "        ]))\n",
    "\n",
    "# 격자별로 데이터 포인트 매핑\n",
    "grid_gdf = gpd.GeoDataFrame(geometry=grid)\n",
    "joined = gpd.sjoin(gdf, grid_gdf, how='left', op='within')\n",
    "\n",
    "# 격자별 데이터 집계\n",
    "aggregated_data = joined.groupby('index_right').size()\n",
    "\n",
    "# 결과 출력 혹은 저장"
   ]
  },
  {
   "cell_type": "code",
   "execution_count": 16,
   "id": "c8305641",
   "metadata": {},
   "outputs": [
    {
     "data": {
      "text/html": [
       "<div>\n",
       "<style scoped>\n",
       "    .dataframe tbody tr th:only-of-type {\n",
       "        vertical-align: middle;\n",
       "    }\n",
       "\n",
       "    .dataframe tbody tr th {\n",
       "        vertical-align: top;\n",
       "    }\n",
       "\n",
       "    .dataframe thead th {\n",
       "        text-align: right;\n",
       "    }\n",
       "</style>\n",
       "<table border=\"1\" class=\"dataframe\">\n",
       "  <thead>\n",
       "    <tr style=\"text-align: right;\">\n",
       "      <th></th>\n",
       "      <th>인허가일자</th>\n",
       "      <th>좌표정보(X)</th>\n",
       "      <th>좌표정보(Y)</th>\n",
       "      <th>폐업일자</th>\n",
       "      <th>영업상태명</th>\n",
       "      <th>정보</th>\n",
       "      <th>geometry</th>\n",
       "      <th>index_right</th>\n",
       "    </tr>\n",
       "  </thead>\n",
       "  <tbody>\n",
       "    <tr>\n",
       "      <th>0</th>\n",
       "      <td>1992-07-22</td>\n",
       "      <td>127.091354</td>\n",
       "      <td>37.538181</td>\n",
       "      <td>19990330</td>\n",
       "      <td>폐업</td>\n",
       "      <td>서울시광진구골프연습장업인허가정보.csv</td>\n",
       "      <td>POINT (127.09135 37.53818)</td>\n",
       "      <td>115665.0</td>\n",
       "    </tr>\n",
       "    <tr>\n",
       "      <th>1</th>\n",
       "      <td>1993-02-27</td>\n",
       "      <td>127.106577</td>\n",
       "      <td>37.547179</td>\n",
       "      <td>19980703</td>\n",
       "      <td>폐업</td>\n",
       "      <td>서울시광진구골프연습장업인허가정보.csv</td>\n",
       "      <td>POINT (127.10658 37.54718)</td>\n",
       "      <td>116584.0</td>\n",
       "    </tr>\n",
       "    <tr>\n",
       "      <th>2</th>\n",
       "      <td>1993-05-18</td>\n",
       "      <td>127.091249</td>\n",
       "      <td>37.537586</td>\n",
       "      <td>20230130</td>\n",
       "      <td>폐업</td>\n",
       "      <td>서울시광진구골프연습장업인허가정보.csv</td>\n",
       "      <td>POINT (127.09125 37.53759)</td>\n",
       "      <td>115665.0</td>\n",
       "    </tr>\n",
       "    <tr>\n",
       "      <th>3</th>\n",
       "      <td>1994-01-27</td>\n",
       "      <td>127.081989</td>\n",
       "      <td>37.555756</td>\n",
       "      <td>20080422</td>\n",
       "      <td>폐업</td>\n",
       "      <td>서울시광진구골프연습장업인허가정보.csv</td>\n",
       "      <td>POINT (127.08199 37.55576)</td>\n",
       "      <td>115208.0</td>\n",
       "    </tr>\n",
       "    <tr>\n",
       "      <th>4</th>\n",
       "      <td>1995-01-14</td>\n",
       "      <td>127.095874</td>\n",
       "      <td>37.538627</td>\n",
       "      <td>0</td>\n",
       "      <td>영업/정상</td>\n",
       "      <td>서울시광진구골프연습장업인허가정보.csv</td>\n",
       "      <td>POINT (127.09587 37.53863)</td>\n",
       "      <td>116124.0</td>\n",
       "    </tr>\n",
       "    <tr>\n",
       "      <th>...</th>\n",
       "      <td>...</td>\n",
       "      <td>...</td>\n",
       "      <td>...</td>\n",
       "      <td>...</td>\n",
       "      <td>...</td>\n",
       "      <td>...</td>\n",
       "      <td>...</td>\n",
       "      <td>...</td>\n",
       "    </tr>\n",
       "    <tr>\n",
       "      <th>27261</th>\n",
       "      <td>2023-10-25</td>\n",
       "      <td>127.066891</td>\n",
       "      <td>37.535869</td>\n",
       "      <td>0</td>\n",
       "      <td>영업/정상</td>\n",
       "      <td>서울시광진구휴게음식점인허가정보.csv</td>\n",
       "      <td>POINT (127.06689 37.53587)</td>\n",
       "      <td>114746.0</td>\n",
       "    </tr>\n",
       "    <tr>\n",
       "      <th>27262</th>\n",
       "      <td>2023-10-25</td>\n",
       "      <td>127.061296</td>\n",
       "      <td>37.536253</td>\n",
       "      <td>0</td>\n",
       "      <td>영업/정상</td>\n",
       "      <td>서울시광진구휴게음식점인허가정보.csv</td>\n",
       "      <td>POINT (127.06130 37.53625)</td>\n",
       "      <td>114287.0</td>\n",
       "    </tr>\n",
       "    <tr>\n",
       "      <th>27263</th>\n",
       "      <td>2023-10-27</td>\n",
       "      <td>127.085362</td>\n",
       "      <td>37.557365</td>\n",
       "      <td>0</td>\n",
       "      <td>영업/정상</td>\n",
       "      <td>서울시광진구휴게음식점인허가정보.csv</td>\n",
       "      <td>POINT (127.08536 37.55737)</td>\n",
       "      <td>115667.0</td>\n",
       "    </tr>\n",
       "    <tr>\n",
       "      <th>27264</th>\n",
       "      <td>2023-11-02</td>\n",
       "      <td>127.078977</td>\n",
       "      <td>37.555599</td>\n",
       "      <td>0</td>\n",
       "      <td>영업/정상</td>\n",
       "      <td>서울시광진구휴게음식점인허가정보.csv</td>\n",
       "      <td>POINT (127.07898 37.55560)</td>\n",
       "      <td>115208.0</td>\n",
       "    </tr>\n",
       "    <tr>\n",
       "      <th>27265</th>\n",
       "      <td>2023-11-03</td>\n",
       "      <td>127.070206</td>\n",
       "      <td>37.539684</td>\n",
       "      <td>0</td>\n",
       "      <td>영업/정상</td>\n",
       "      <td>서울시광진구휴게음식점인허가정보.csv</td>\n",
       "      <td>POINT (127.07021 37.53968)</td>\n",
       "      <td>114747.0</td>\n",
       "    </tr>\n",
       "  </tbody>\n",
       "</table>\n",
       "<p>27266 rows × 8 columns</p>\n",
       "</div>"
      ],
      "text/plain": [
       "            인허가일자     좌표정보(X)    좌표정보(Y)      폐업일자  영업상태명  \\\n",
       "0      1992-07-22  127.091354  37.538181  19990330     폐업   \n",
       "1      1993-02-27  127.106577  37.547179  19980703     폐업   \n",
       "2      1993-05-18  127.091249  37.537586  20230130     폐업   \n",
       "3      1994-01-27  127.081989  37.555756  20080422     폐업   \n",
       "4      1995-01-14  127.095874  37.538627         0  영업/정상   \n",
       "...           ...         ...        ...       ...    ...   \n",
       "27261  2023-10-25  127.066891  37.535869         0  영업/정상   \n",
       "27262  2023-10-25  127.061296  37.536253         0  영업/정상   \n",
       "27263  2023-10-27  127.085362  37.557365         0  영업/정상   \n",
       "27264  2023-11-02  127.078977  37.555599         0  영업/정상   \n",
       "27265  2023-11-03  127.070206  37.539684         0  영업/정상   \n",
       "\n",
       "                          정보                    geometry  index_right  \n",
       "0      서울시광진구골프연습장업인허가정보.csv  POINT (127.09135 37.53818)     115665.0  \n",
       "1      서울시광진구골프연습장업인허가정보.csv  POINT (127.10658 37.54718)     116584.0  \n",
       "2      서울시광진구골프연습장업인허가정보.csv  POINT (127.09125 37.53759)     115665.0  \n",
       "3      서울시광진구골프연습장업인허가정보.csv  POINT (127.08199 37.55576)     115208.0  \n",
       "4      서울시광진구골프연습장업인허가정보.csv  POINT (127.09587 37.53863)     116124.0  \n",
       "...                      ...                         ...          ...  \n",
       "27261   서울시광진구휴게음식점인허가정보.csv  POINT (127.06689 37.53587)     114746.0  \n",
       "27262   서울시광진구휴게음식점인허가정보.csv  POINT (127.06130 37.53625)     114287.0  \n",
       "27263   서울시광진구휴게음식점인허가정보.csv  POINT (127.08536 37.55737)     115667.0  \n",
       "27264   서울시광진구휴게음식점인허가정보.csv  POINT (127.07898 37.55560)     115208.0  \n",
       "27265   서울시광진구휴게음식점인허가정보.csv  POINT (127.07021 37.53968)     114747.0  \n",
       "\n",
       "[27266 rows x 8 columns]"
      ]
     },
     "execution_count": 16,
     "metadata": {},
     "output_type": "execute_result"
    }
   ],
   "source": [
    "joined"
   ]
  },
  {
   "cell_type": "code",
   "execution_count": 102,
   "id": "c7ca8ad3",
   "metadata": {},
   "outputs": [],
   "source": [
    "insert = '서울시 광진구 '"
   ]
  },
  {
   "cell_type": "code",
   "execution_count": 103,
   "id": "57a1c875",
   "metadata": {},
   "outputs": [],
   "source": [
    "df1['위치'] = insert + df1['위치']"
   ]
  },
  {
   "cell_type": "code",
   "execution_count": 104,
   "id": "8641fccd",
   "metadata": {},
   "outputs": [
    {
     "data": {
      "text/plain": [
       "5       서울시 광진구 중곡4동 453 일대\n",
       "20    서울시 광진구 구의3동 609-1 일대\n",
       "28      서울시 광진구 자양3동 712 일대\n",
       "Name: 위치, dtype: object"
      ]
     },
     "execution_count": 104,
     "metadata": {},
     "output_type": "execute_result"
    }
   ],
   "source": [
    "df1.loc[df1['위치'].str.contains('일대'),'위치']"
   ]
  },
  {
   "cell_type": "code",
   "execution_count": 105,
   "id": "9cb3db1e",
   "metadata": {},
   "outputs": [],
   "source": [
    "df1.loc[df1['위치'].str.contains('일대'),'위치'] = df1[df1['위치'].str.contains('일대')]['위치'].str.slice(stop=-2)"
   ]
  },
  {
   "cell_type": "code",
   "execution_count": 106,
   "id": "f1f7cd62",
   "metadata": {},
   "outputs": [],
   "source": [
    "df1.loc[df1['위치'].str.contains('외'),'위치'] = df1[df1['위치'].str.contains('외')]['위치'].str.slice(stop=-2)"
   ]
  },
  {
   "cell_type": "code",
   "execution_count": 107,
   "id": "7ae5c002",
   "metadata": {},
   "outputs": [],
   "source": [
    "import geocoder"
   ]
  },
  {
   "cell_type": "code",
   "execution_count": 64,
   "id": "58697302",
   "metadata": {},
   "outputs": [],
   "source": [
    "geo_dict = {}\n",
    "for i  in df1['위치']:\n",
    "    geo_value = geocoder.osm(i)\n",
    "    geo_dict[i] = [geo_value.lat,geo_value.lng]\n",
    "    geo_list = [geo_value.lat,geo_value.lng]"
   ]
  },
  {
   "cell_type": "code",
   "execution_count": 108,
   "id": "cb889270",
   "metadata": {},
   "outputs": [
    {
     "data": {
      "text/plain": [
       "36"
      ]
     },
     "execution_count": 108,
     "metadata": {},
     "output_type": "execute_result"
    }
   ],
   "source": [
    "len(geo_dict)"
   ]
  },
  {
   "cell_type": "code",
   "execution_count": 131,
   "id": "a229a405",
   "metadata": {},
   "outputs": [],
   "source": [
    "for i in geo_dict.keys():\n",
    "    df1.loc[df1['위치'] ==  i,['위도','경도']] = geo_dict[i]"
   ]
  },
  {
   "cell_type": "code",
   "execution_count": 134,
   "id": "3143dcd9",
   "metadata": {},
   "outputs": [
    {
     "name": "stderr",
     "output_type": "stream",
     "text": [
      "C:\\Users\\HP\\anaconda3\\Lib\\site-packages\\IPython\\core\\interactiveshell.py:3445: FutureWarning: The `op` parameter is deprecated and will be removed in a future release. Please use the `predicate` parameter instead.\n",
      "  if await self.run_code(code, result, async_=asy):\n"
     ]
    }
   ],
   "source": [
    "gdf_2 = gpd.GeoDataFrame(df1, geometry=gpd.points_from_xy(df1['경도'], df1['위도']))\n",
    "\n",
    "# 격자별로 데이터 포인트 매핑\n",
    "grid_gdf = gpd.GeoDataFrame(geometry=grid)\n",
    "joined = gpd.sjoin(gdf_2, grid_gdf, how='left', op='within')\n",
    "# 기존 격자 기준에 매핑\n",
    "# 격자별 데이터 집계\n",
    "aggregated_data = joined.groupby('index_right').size()"
   ]
  },
  {
   "cell_type": "code",
   "execution_count": 136,
   "id": "2dbf975e",
   "metadata": {},
   "outputs": [],
   "source": [
    "joined.to_csv('격자화_공영주차장.csv',index=False)"
   ]
  },
  {
   "cell_type": "markdown",
   "id": "2808d5f8",
   "metadata": {},
   "source": [
    "---"
   ]
  },
  {
   "cell_type": "code",
   "execution_count": 137,
   "id": "c385aedd",
   "metadata": {},
   "outputs": [
    {
     "data": {
      "text/html": [
       "<div>\n",
       "<style scoped>\n",
       "    .dataframe tbody tr th:only-of-type {\n",
       "        vertical-align: middle;\n",
       "    }\n",
       "\n",
       "    .dataframe tbody tr th {\n",
       "        vertical-align: top;\n",
       "    }\n",
       "\n",
       "    .dataframe thead th {\n",
       "        text-align: right;\n",
       "    }\n",
       "</style>\n",
       "<table border=\"1\" class=\"dataframe\">\n",
       "  <thead>\n",
       "    <tr style=\"text-align: right;\">\n",
       "      <th></th>\n",
       "      <th>관리번호</th>\n",
       "      <th>위도</th>\n",
       "      <th>경도</th>\n",
       "      <th>정보</th>\n",
       "    </tr>\n",
       "  </thead>\n",
       "  <tbody>\n",
       "    <tr>\n",
       "      <th>0</th>\n",
       "      <td>로데오거리1-1</td>\n",
       "      <td>37.539513</td>\n",
       "      <td>127.070008</td>\n",
       "      <td>서울특별시 광진구_가로등 위치정보_20220214.csv</td>\n",
       "    </tr>\n",
       "    <tr>\n",
       "      <th>1</th>\n",
       "      <td>로데오거리1-16</td>\n",
       "      <td>37.540853</td>\n",
       "      <td>127.066288</td>\n",
       "      <td>서울특별시 광진구_가로등 위치정보_20220214.csv</td>\n",
       "    </tr>\n",
       "    <tr>\n",
       "      <th>2</th>\n",
       "      <td>중곡제방길1</td>\n",
       "      <td>37.571695</td>\n",
       "      <td>127.079518</td>\n",
       "      <td>서울특별시 광진구_가로등 위치정보_20220214.csv</td>\n",
       "    </tr>\n",
       "    <tr>\n",
       "      <th>3</th>\n",
       "      <td>중곡제방길10</td>\n",
       "      <td>37.570218</td>\n",
       "      <td>127.079153</td>\n",
       "      <td>서울특별시 광진구_가로등 위치정보_20220214.csv</td>\n",
       "    </tr>\n",
       "    <tr>\n",
       "      <th>4</th>\n",
       "      <td>중곡제방길11</td>\n",
       "      <td>37.570053</td>\n",
       "      <td>127.079086</td>\n",
       "      <td>서울특별시 광진구_가로등 위치정보_20220214.csv</td>\n",
       "    </tr>\n",
       "    <tr>\n",
       "      <th>...</th>\n",
       "      <td>...</td>\n",
       "      <td>...</td>\n",
       "      <td>...</td>\n",
       "      <td>...</td>\n",
       "    </tr>\n",
       "    <tr>\n",
       "      <th>2717</th>\n",
       "      <td>하우스스토리1-5</td>\n",
       "      <td>37.530094</td>\n",
       "      <td>127.089264</td>\n",
       "      <td>서울특별시 광진구_가로등 위치정보_20220214.csv</td>\n",
       "    </tr>\n",
       "    <tr>\n",
       "      <th>2718</th>\n",
       "      <td>하우스스토리1-6</td>\n",
       "      <td>37.529902</td>\n",
       "      <td>127.089319</td>\n",
       "      <td>서울특별시 광진구_가로등 위치정보_20220214.csv</td>\n",
       "    </tr>\n",
       "    <tr>\n",
       "      <th>2719</th>\n",
       "      <td>하우스스토리1-7</td>\n",
       "      <td>37.529831</td>\n",
       "      <td>127.089568</td>\n",
       "      <td>서울특별시 광진구_가로등 위치정보_20220214.csv</td>\n",
       "    </tr>\n",
       "    <tr>\n",
       "      <th>2720</th>\n",
       "      <td>하우스스토리1-8</td>\n",
       "      <td>37.529883</td>\n",
       "      <td>127.090268</td>\n",
       "      <td>서울특별시 광진구_가로등 위치정보_20220214.csv</td>\n",
       "    </tr>\n",
       "    <tr>\n",
       "      <th>2721</th>\n",
       "      <td>하우스스토리1-9</td>\n",
       "      <td>37.530091</td>\n",
       "      <td>127.090447</td>\n",
       "      <td>서울특별시 광진구_가로등 위치정보_20220214.csv</td>\n",
       "    </tr>\n",
       "  </tbody>\n",
       "</table>\n",
       "<p>2722 rows × 4 columns</p>\n",
       "</div>"
      ],
      "text/plain": [
       "           관리번호         위도          경도                               정보\n",
       "0      로데오거리1-1  37.539513  127.070008  서울특별시 광진구_가로등 위치정보_20220214.csv\n",
       "1     로데오거리1-16  37.540853  127.066288  서울특별시 광진구_가로등 위치정보_20220214.csv\n",
       "2        중곡제방길1  37.571695  127.079518  서울특별시 광진구_가로등 위치정보_20220214.csv\n",
       "3       중곡제방길10  37.570218  127.079153  서울특별시 광진구_가로등 위치정보_20220214.csv\n",
       "4       중곡제방길11  37.570053  127.079086  서울특별시 광진구_가로등 위치정보_20220214.csv\n",
       "...         ...        ...         ...                              ...\n",
       "2717  하우스스토리1-5  37.530094  127.089264  서울특별시 광진구_가로등 위치정보_20220214.csv\n",
       "2718  하우스스토리1-6  37.529902  127.089319  서울특별시 광진구_가로등 위치정보_20220214.csv\n",
       "2719  하우스스토리1-7  37.529831  127.089568  서울특별시 광진구_가로등 위치정보_20220214.csv\n",
       "2720  하우스스토리1-8  37.529883  127.090268  서울특별시 광진구_가로등 위치정보_20220214.csv\n",
       "2721  하우스스토리1-9  37.530091  127.090447  서울특별시 광진구_가로등 위치정보_20220214.csv\n",
       "\n",
       "[2722 rows x 4 columns]"
      ]
     },
     "execution_count": 137,
     "metadata": {},
     "output_type": "execute_result"
    }
   ],
   "source": [
    "df2"
   ]
  },
  {
   "cell_type": "code",
   "execution_count": 140,
   "id": "02298cff",
   "metadata": {},
   "outputs": [
    {
     "name": "stderr",
     "output_type": "stream",
     "text": [
      "C:\\Users\\HP\\anaconda3\\Lib\\site-packages\\IPython\\core\\interactiveshell.py:3445: FutureWarning: The `op` parameter is deprecated and will be removed in a future release. Please use the `predicate` parameter instead.\n",
      "  if await self.run_code(code, result, async_=asy):\n"
     ]
    }
   ],
   "source": [
    "gdf_3 = gpd.GeoDataFrame(df2, geometry=gpd.points_from_xy(df2['경도'], df2['위도']))\n",
    "\n",
    "# 격자별로 데이터 포인트 매핑\n",
    "grid_gdf = gpd.GeoDataFrame(geometry=grid)\n",
    "joined = gpd.sjoin(gdf_3, grid_gdf, how='left', op='within')\n",
    "# 기존 격자 기준에 매핑\n",
    "# 격자별 데이터 집계\n",
    "aggregated_data = joined.groupby('index_right').size()"
   ]
  },
  {
   "cell_type": "code",
   "execution_count": 142,
   "id": "49aad944",
   "metadata": {},
   "outputs": [],
   "source": [
    "joined.to_csv('격자화_가로등.csv',index=False)"
   ]
  }
 ],
 "metadata": {
  "kernelspec": {
   "display_name": "Python 3 (ipykernel)",
   "language": "python",
   "name": "python3"
  },
  "language_info": {
   "codemirror_mode": {
    "name": "ipython",
    "version": 3
   },
   "file_extension": ".py",
   "mimetype": "text/x-python",
   "name": "python",
   "nbconvert_exporter": "python",
   "pygments_lexer": "ipython3",
   "version": "3.11.3"
  }
 },
 "nbformat": 4,
 "nbformat_minor": 5
}
